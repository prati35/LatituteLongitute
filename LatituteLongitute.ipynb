{
 "cells": [
  {
   "cell_type": "code",
   "execution_count": 1,
   "id": "84c8c018",
   "metadata": {},
   "outputs": [],
   "source": [
    "import requests\n",
    "import pandas as pd\n"
   ]
  },
  {
   "cell_type": "code",
   "execution_count": 2,
   "id": "e856eafa",
   "metadata": {},
   "outputs": [
    {
     "name": "stdout",
     "output_type": "stream",
     "text": [
      "[    country   latitude  longitude                  name\n",
      "0        AD  42.546245   1.601554               Andorra\n",
      "1        AE  23.424076  53.847818  United Arab Emirates\n",
      "2        AF  33.939110  67.709953           Afghanistan\n",
      "3        AG  17.060816 -61.796428   Antigua and Barbuda\n",
      "4        AI  18.220554 -63.068615              Anguilla\n",
      "..      ...        ...        ...                   ...\n",
      "240      YE  15.552727  48.516388                 Yemen\n",
      "241      YT -12.827500  45.166244               Mayotte\n",
      "242      ZA -30.559482  22.937506          South Africa\n",
      "243      ZM -13.133897  27.849332                Zambia\n",
      "244      ZW -19.015438  29.154857              Zimbabwe\n",
      "\n",
      "[245 rows x 4 columns]]\n"
     ]
    }
   ],
   "source": [
    "# importing latititude longitude from url \n",
    "\n",
    "url = 'https://developers.google.com/public-data/docs/canonical/countries_csv'\n",
    "html = requests.get(url).content\n",
    "country = pd.read_html(html)\n",
    "print(country)\n",
    "\n"
   ]
  },
  {
   "cell_type": "code",
   "execution_count": null,
   "id": "eea3b128",
   "metadata": {},
   "outputs": [],
   "source": [
    "#exporting the table into the csv file\n",
    "for i in country:\n",
    "    i.to_csv(\"Country\", index = False"
   ]
  },
  {
   "cell_type": "code",
   "execution_count": null,
   "id": "02060b47",
   "metadata": {},
   "outputs": [],
   "source": []
  }
 ],
 "metadata": {
  "kernelspec": {
   "display_name": "Python 3 (ipykernel)",
   "language": "python",
   "name": "python3"
  },
  "language_info": {
   "codemirror_mode": {
    "name": "ipython",
    "version": 3
   },
   "file_extension": ".py",
   "mimetype": "text/x-python",
   "name": "python",
   "nbconvert_exporter": "python",
   "pygments_lexer": "ipython3",
   "version": "3.9.7"
  }
 },
 "nbformat": 4,
 "nbformat_minor": 5
}
